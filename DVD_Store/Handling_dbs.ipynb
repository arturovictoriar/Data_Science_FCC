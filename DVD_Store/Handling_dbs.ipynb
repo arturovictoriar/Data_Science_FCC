{
  "nbformat": 4,
  "nbformat_minor": 0,
  "metadata": {
    "kernelspec": {
      "display_name": "Python 3",
      "language": "python",
      "name": "python3"
    },
    "language_info": {
      "codemirror_mode": {
        "name": "ipython",
        "version": 3
      },
      "file_extension": ".py",
      "mimetype": "text/x-python",
      "name": "python",
      "nbconvert_exporter": "python",
      "pygments_lexer": "ipython3",
      "version": "3.6.8"
    },
    "colab": {
      "name": "Handling_dbs.ipynb",
      "provenance": [],
      "toc_visible": true
    }
  },
  "cells": [
    {
      "cell_type": "markdown",
      "metadata": {
        "id": "sShA6-yy2Q7C"
      },
      "source": [
        "# DVD rent store using a database file and SAKILA db.\n"
      ]
    },
    {
      "cell_type": "markdown",
      "metadata": {
        "id": "SJUS7TmR2Q7K"
      },
      "source": [
        "### Import numpy, pandas, matplotlib, and sqlite3"
      ]
    },
    {
      "cell_type": "markdown",
      "metadata": {
        "id": "M26vJprr3H8s"
      },
      "source": [
        "#### Note: \"%matplotlib inline\" is used for plotting inline in Jupiter notebook"
      ]
    },
    {
      "cell_type": "code",
      "metadata": {
        "id": "f5WmF2ES2Q7L"
      },
      "source": [
        "import numpy as np\n",
        "import pandas as pd\n",
        "import matplotlib.pyplot as plt\n",
        "import sqlite3\n",
        "\n",
        "%matplotlib inline"
      ],
      "execution_count": 1,
      "outputs": []
    },
    {
      "cell_type": "code",
      "metadata": {
        "id": "us_-kpmF2Q7M"
      },
      "source": [
        "conn = sqlite3.connect('data/sakila.db')\n",
        "\n",
        "df = pd.read_sql('''\n",
        "    SELECT\n",
        "        rental.rental_id, rental.rental_date, rental.return_date,\n",
        "        customer.last_name AS customer_lastname,\n",
        "        store.store_id,\n",
        "        city.city AS rental_store_city,\n",
        "        film.title AS film_title, film.rental_duration AS film_rental_duration,\n",
        "        film.rental_rate AS film_rental_rate, film.replacement_cost AS film_replacement_cost,\n",
        "        film.rating AS film_rating\n",
        "    FROM rental\n",
        "    INNER JOIN customer ON rental.customer_id == customer.customer_id\n",
        "    INNER JOIN inventory ON rental.inventory_id == inventory.inventory_id\n",
        "    INNER JOIN store ON inventory.store_id == store.store_id\n",
        "    INNER JOIN address ON store.address_id == address.address_id\n",
        "    INNER JOIN city ON address.city_id == city.city_id\n",
        "    INNER JOIN film ON inventory.film_id == film.film_id\n",
        "    ;\n",
        "''', conn, index_col='rental_id', parse_dates=['rental_date', 'return_date'])"
      ],
      "execution_count": 3,
      "outputs": []
    },
    {
      "cell_type": "code",
      "metadata": {
        "colab": {
          "base_uri": "https://localhost:8080/",
          "height": 340
        },
        "id": "WRV1C7R_2Q7O",
        "outputId": "119df1af-d0be-4560-aecf-f895f57b7836"
      },
      "source": [
        "df.head()"
      ],
      "execution_count": 4,
      "outputs": [
        {
          "output_type": "execute_result",
          "data": {
            "text/html": [
              "<div>\n",
              "<style scoped>\n",
              "    .dataframe tbody tr th:only-of-type {\n",
              "        vertical-align: middle;\n",
              "    }\n",
              "\n",
              "    .dataframe tbody tr th {\n",
              "        vertical-align: top;\n",
              "    }\n",
              "\n",
              "    .dataframe thead th {\n",
              "        text-align: right;\n",
              "    }\n",
              "</style>\n",
              "<table border=\"1\" class=\"dataframe\">\n",
              "  <thead>\n",
              "    <tr style=\"text-align: right;\">\n",
              "      <th></th>\n",
              "      <th>rental_date</th>\n",
              "      <th>return_date</th>\n",
              "      <th>customer_lastname</th>\n",
              "      <th>store_id</th>\n",
              "      <th>rental_store_city</th>\n",
              "      <th>film_title</th>\n",
              "      <th>film_rental_duration</th>\n",
              "      <th>film_rental_rate</th>\n",
              "      <th>film_replacement_cost</th>\n",
              "      <th>film_rating</th>\n",
              "    </tr>\n",
              "    <tr>\n",
              "      <th>rental_id</th>\n",
              "      <th></th>\n",
              "      <th></th>\n",
              "      <th></th>\n",
              "      <th></th>\n",
              "      <th></th>\n",
              "      <th></th>\n",
              "      <th></th>\n",
              "      <th></th>\n",
              "      <th></th>\n",
              "      <th></th>\n",
              "    </tr>\n",
              "  </thead>\n",
              "  <tbody>\n",
              "    <tr>\n",
              "      <th>1</th>\n",
              "      <td>2005-05-24 22:53:30</td>\n",
              "      <td>2005-05-26 22:04:30</td>\n",
              "      <td>HUNTER</td>\n",
              "      <td>1</td>\n",
              "      <td>Lethbridge</td>\n",
              "      <td>BLANKET BEVERLY</td>\n",
              "      <td>7</td>\n",
              "      <td>2.99</td>\n",
              "      <td>21.99</td>\n",
              "      <td>G</td>\n",
              "    </tr>\n",
              "    <tr>\n",
              "      <th>2</th>\n",
              "      <td>2005-05-24 22:54:33</td>\n",
              "      <td>2005-05-28 19:40:33</td>\n",
              "      <td>COLLAZO</td>\n",
              "      <td>2</td>\n",
              "      <td>Woodridge</td>\n",
              "      <td>FREAKY POCUS</td>\n",
              "      <td>7</td>\n",
              "      <td>2.99</td>\n",
              "      <td>16.99</td>\n",
              "      <td>R</td>\n",
              "    </tr>\n",
              "    <tr>\n",
              "      <th>3</th>\n",
              "      <td>2005-05-24 23:03:39</td>\n",
              "      <td>2005-06-01 22:12:39</td>\n",
              "      <td>MURRELL</td>\n",
              "      <td>2</td>\n",
              "      <td>Woodridge</td>\n",
              "      <td>GRADUATE LORD</td>\n",
              "      <td>7</td>\n",
              "      <td>2.99</td>\n",
              "      <td>14.99</td>\n",
              "      <td>G</td>\n",
              "    </tr>\n",
              "    <tr>\n",
              "      <th>4</th>\n",
              "      <td>2005-05-24 23:04:41</td>\n",
              "      <td>2005-06-03 01:43:41</td>\n",
              "      <td>PURDY</td>\n",
              "      <td>1</td>\n",
              "      <td>Lethbridge</td>\n",
              "      <td>LOVE SUICIDES</td>\n",
              "      <td>6</td>\n",
              "      <td>0.99</td>\n",
              "      <td>21.99</td>\n",
              "      <td>R</td>\n",
              "    </tr>\n",
              "    <tr>\n",
              "      <th>5</th>\n",
              "      <td>2005-05-24 23:05:21</td>\n",
              "      <td>2005-06-02 04:33:21</td>\n",
              "      <td>HANSEN</td>\n",
              "      <td>2</td>\n",
              "      <td>Woodridge</td>\n",
              "      <td>IDOLS SNATCHERS</td>\n",
              "      <td>5</td>\n",
              "      <td>2.99</td>\n",
              "      <td>29.99</td>\n",
              "      <td>NC-17</td>\n",
              "    </tr>\n",
              "  </tbody>\n",
              "</table>\n",
              "</div>"
            ],
            "text/plain": [
              "                  rental_date  ... film_rating\n",
              "rental_id                      ...            \n",
              "1         2005-05-24 22:53:30  ...           G\n",
              "2         2005-05-24 22:54:33  ...           R\n",
              "3         2005-05-24 23:03:39  ...           G\n",
              "4         2005-05-24 23:04:41  ...           R\n",
              "5         2005-05-24 23:05:21  ...       NC-17\n",
              "\n",
              "[5 rows x 10 columns]"
            ]
          },
          "metadata": {
            "tags": []
          },
          "execution_count": 4
        }
      ]
    },
    {
      "cell_type": "markdown",
      "metadata": {
        "id": "68P8kXwM2Q7P"
      },
      "source": [
        "### The mean of `film_rental_duration`"
      ]
    },
    {
      "cell_type": "code",
      "metadata": {
        "colab": {
          "base_uri": "https://localhost:8080/"
        },
        "id": "DXCa2BMJ4TVX",
        "outputId": "9761483b-195f-4cf6-af2a-1504f9c229b9"
      },
      "source": [
        "df['film_rental_duration'].mean()"
      ],
      "execution_count": 5,
      "outputs": [
        {
          "output_type": "execute_result",
          "data": {
            "text/plain": [
              "4.935489902767389"
            ]
          },
          "metadata": {
            "tags": []
          },
          "execution_count": 5
        }
      ]
    },
    {
      "cell_type": "markdown",
      "metadata": {
        "id": "sj9joU4i2Q7u"
      },
      "source": [
        "### The most common rental duration\n",
        "\n",
        "The <b>bar plot</b> with all the durations."
      ]
    },
    {
      "cell_type": "code",
      "metadata": {
        "colab": {
          "base_uri": "https://localhost:8080/",
          "height": 387
        },
        "id": "thutUm2e4SkV",
        "outputId": "1a5062a0-1b67-4380-f473-a54f7fc119ef"
      },
      "source": [
        "df['film_rental_duration'].value_counts().plot(kind=\"bar\", figsize=(14,6))"
      ],
      "execution_count": 9,
      "outputs": [
        {
          "output_type": "execute_result",
          "data": {
            "text/plain": [
              "<matplotlib.axes._subplots.AxesSubplot at 0x7f45983a32b0>"
            ]
          },
          "metadata": {
            "tags": []
          },
          "execution_count": 9
        },
        {
          "output_type": "display_data",
          "data": {
            "image/png": "[encoded data removed]",
            "text/plain": [
              "<Figure size 1008x432 with 1 Axes>"
            ]
          },
          "metadata": {
            "tags": [],
            "needs_background": "light"
          }
        }
      ]
    },
    {
      "cell_type": "markdown",
      "metadata": {
        "id": "d08yR4qP2Q70"
      },
      "source": [
        "### What is the most common rental rate?\n",
        "\n",
        "- Show a <b>pie plot</b> with all possible rental rates.\n",
        "- Show a <b>bar plot</b> with all possible rental rates.\n",
        "- Which plot you think fits the best in this case? Why?"
      ]
    },
    {
      "cell_type": "code",
      "metadata": {
        "id": "0E2I9JBe4N-B"
      },
      "source": [
        "# your code goes here\n"
      ],
      "execution_count": null,
      "outputs": []
    },
    {
      "cell_type": "code",
      "metadata": {
        "cell_type": "solution",
        "id": "1FmGkzLS2Q70"
      },
      "source": [
        "df['film_rental_rate'].value_counts().plot(kind='pie', figsize=(6,6))"
      ],
      "execution_count": null,
      "outputs": []
    },
    {
      "cell_type": "code",
      "metadata": {
        "id": "hyRMnjE04OKv"
      },
      "source": [
        "# your code goes here\n"
      ],
      "execution_count": null,
      "outputs": []
    },
    {
      "cell_type": "code",
      "metadata": {
        "cell_type": "solution",
        "id": "w3Gtr9X42Q71"
      },
      "source": [
        "df['film_rental_rate'].value_counts().plot(kind='bar', figsize=(14,6))"
      ],
      "execution_count": null,
      "outputs": []
    },
    {
      "cell_type": "markdown",
      "metadata": {
        "id": "Ussk-Cn22Q71"
      },
      "source": [
        "### How is the replacement cost distributed?\n",
        "\n",
        "- Show a <b>box plot</b> of the replacement costs.\n",
        "- Show a <b>density plot</b> of the replacement costs.\n",
        "- Add a red line on the <b>mean</b>.\n",
        "- Add a green line on the median <b>median</b>."
      ]
    },
    {
      "cell_type": "code",
      "metadata": {
        "id": "rkSFIWl84Jfm"
      },
      "source": [
        "# your code goes here\n"
      ],
      "execution_count": null,
      "outputs": []
    },
    {
      "cell_type": "code",
      "metadata": {
        "cell_type": "solution",
        "id": "9VGmhp_j2Q72"
      },
      "source": [
        "df['film_replacement_cost'].plot(kind='box', vert=False, figsize=(14,6))"
      ],
      "execution_count": null,
      "outputs": []
    },
    {
      "cell_type": "code",
      "metadata": {
        "id": "9Q9Kui5q4JTa"
      },
      "source": [
        "# your code goes here\n"
      ],
      "execution_count": null,
      "outputs": []
    },
    {
      "cell_type": "code",
      "metadata": {
        "cell_type": "solution",
        "id": "cENdNymZ2Q73"
      },
      "source": [
        "ax = df['film_replacement_cost'].plot(kind='density', figsize=(14,6))\n",
        "ax.axvline(df['film_replacement_cost'].mean(), color='red')\n",
        "ax.axvline(df['film_replacement_cost'].median(), color='green')"
      ],
      "execution_count": null,
      "outputs": []
    },
    {
      "cell_type": "markdown",
      "metadata": {
        "id": "N_Kzfo9h2Q73"
      },
      "source": [
        "### How many films of each rating do we have?\n",
        "\n",
        "- Show the raw count of each film rating.\n",
        "- Show a <b>bar plot</b> with all possible film ratings."
      ]
    },
    {
      "cell_type": "code",
      "metadata": {
        "id": "Y_hxY88Y2Q73"
      },
      "source": [
        "# your code goes here\n"
      ],
      "execution_count": null,
      "outputs": []
    },
    {
      "cell_type": "code",
      "metadata": {
        "cell_type": "solution",
        "id": "7tWGwe5r2Q74"
      },
      "source": [
        "df['film_rating'].value_counts()"
      ],
      "execution_count": null,
      "outputs": []
    },
    {
      "cell_type": "code",
      "metadata": {
        "id": "2bl76DJl2Q74"
      },
      "source": [
        "# your code goes here\n"
      ],
      "execution_count": null,
      "outputs": []
    },
    {
      "cell_type": "code",
      "metadata": {
        "cell_type": "solution",
        "id": "EgkL27iW2Q74"
      },
      "source": [
        "df['film_rating'].value_counts().plot(kind='bar', figsize=(14,6))"
      ],
      "execution_count": null,
      "outputs": []
    },
    {
      "cell_type": "markdown",
      "metadata": {
        "id": "9VbwltgQ2Q74"
      },
      "source": [
        "### Does the film replacement cost vary depending on film rating?\n",
        "\n",
        "In the United States, film classification is a voluntary process with the ratings issued by the Motion Picture Association of America (MPAA) via the Classification and Rating Administration (CARA).\n",
        "\n",
        "- G (General Audiences): All Ages are Admitted.\n",
        "- PG (Parental Guidance Suggested): Some Material May Not Be Suitable for Children.\n",
        "- PG-13 (Parents Strongly Cautioned): Some Material May Be Inappropriate for Children Under 13.\n",
        "- R (Restricted): Under 17 Requires Accompanying Parent or Adult Guardian.\n",
        "- NC-17 (Adults Only): No One 17 and Under Admitted.\n",
        "\n",
        "Show a <b>grouped box plot</b> per film rating with the film replacement costs."
      ]
    },
    {
      "cell_type": "code",
      "metadata": {
        "id": "hQnt2S332Q75"
      },
      "source": [
        "# your code goes here\n"
      ],
      "execution_count": null,
      "outputs": []
    },
    {
      "cell_type": "code",
      "metadata": {
        "cell_type": "solution",
        "id": "bOyGybAL2Q75"
      },
      "source": [
        "df[['film_replacement_cost', 'film_rating']].boxplot(by='film_rating', figsize=(14,6))"
      ],
      "execution_count": null,
      "outputs": []
    },
    {
      "cell_type": "markdown",
      "metadata": {
        "id": "OOJSIg9m2Q75"
      },
      "source": [
        "### Add and calculate a new `rental_days` column\n",
        "\n",
        "This numeric column should have the count of days between `rental_date` and `return_date`."
      ]
    },
    {
      "cell_type": "code",
      "metadata": {
        "id": "c9OCPzu92Q76"
      },
      "source": [
        "# your code goes here\n"
      ],
      "execution_count": null,
      "outputs": []
    },
    {
      "cell_type": "code",
      "metadata": {
        "cell_type": "solution",
        "id": "kyJlBCS12Q76"
      },
      "source": [
        "df['rental_days'] = df[['rental_date', 'return_date']].apply(lambda x: (x[1] - x[0]).days, axis=1)\n",
        "\n",
        "df['rental_days'].head()"
      ],
      "execution_count": null,
      "outputs": []
    },
    {
      "cell_type": "markdown",
      "metadata": {
        "id": "xavjH7xp2Q76"
      },
      "source": [
        "### Analyze the distribution of `rental_days`\n",
        "\n",
        "- Calculate the mean of `rental_days`.\n",
        "- Show a <b>density (KDE)</b> of `rental_days`."
      ]
    },
    {
      "cell_type": "code",
      "metadata": {
        "id": "-kwXYHDl2Q76"
      },
      "source": [
        "# your code goes here\n"
      ],
      "execution_count": null,
      "outputs": []
    },
    {
      "cell_type": "code",
      "metadata": {
        "cell_type": "solution",
        "id": "SnxaTuSw2Q77"
      },
      "source": [
        "df['rental_days'].mean()"
      ],
      "execution_count": null,
      "outputs": []
    },
    {
      "cell_type": "code",
      "metadata": {
        "id": "1zROGVhX2Q77"
      },
      "source": [
        "# your code goes here\n"
      ],
      "execution_count": null,
      "outputs": []
    },
    {
      "cell_type": "code",
      "metadata": {
        "cell_type": "solution",
        "id": "GNLEiObF2Q77"
      },
      "source": [
        "ax = df['rental_days'].plot(kind='density', figsize=(14,6))\n",
        "ax.axvline(df['rental_days'].mean(), color='red')"
      ],
      "execution_count": null,
      "outputs": []
    },
    {
      "cell_type": "markdown",
      "metadata": {
        "id": "dymSWZAf2Q77"
      },
      "source": [
        "### Add and calculate a new `film_daily_rental_rate` column\n",
        "\n",
        "This value should be the division of `film_rental_rate` by `film_rental_duration`."
      ]
    },
    {
      "cell_type": "code",
      "metadata": {
        "id": "DmLTBiL02Q79"
      },
      "source": [
        "# your code goes here\n"
      ],
      "execution_count": null,
      "outputs": []
    },
    {
      "cell_type": "code",
      "metadata": {
        "cell_type": "solution",
        "id": "W6OIPsXy2Q7-"
      },
      "source": [
        "df['film_daily_rental_rate'] = df['film_rental_rate'] / df['film_rental_duration']\n",
        "\n",
        "df['film_daily_rental_rate'].head()"
      ],
      "execution_count": null,
      "outputs": []
    },
    {
      "cell_type": "markdown",
      "metadata": {
        "id": "8T7xbL0T2Q7-"
      },
      "source": [
        "### Analyze the distribution of `film_daily_rental_rate`\n",
        "\n",
        "- Calculate the mean of `film_daily_rental_rate`.\n",
        "- Show a <b>density (KDE)</b> of `film_daily_rental_rate`."
      ]
    },
    {
      "cell_type": "code",
      "metadata": {
        "id": "pueGHVVP2Q7-"
      },
      "source": [
        "# your code goes here\n"
      ],
      "execution_count": null,
      "outputs": []
    },
    {
      "cell_type": "code",
      "metadata": {
        "cell_type": "solution",
        "id": "X5zOSjkY2Q7_"
      },
      "source": [
        "df['film_daily_rental_rate'].mean()"
      ],
      "execution_count": null,
      "outputs": []
    },
    {
      "cell_type": "code",
      "metadata": {
        "id": "J_FnGJKi2Q7_"
      },
      "source": [
        "# your code goes here\n"
      ],
      "execution_count": null,
      "outputs": []
    },
    {
      "cell_type": "code",
      "metadata": {
        "cell_type": "solution",
        "id": "8syMKK1-2Q7_"
      },
      "source": [
        "ax = df['film_daily_rental_rate'].plot(kind='density', figsize=(14,6))\n",
        "ax.axvline(df['film_daily_rental_rate'].mean(), color='red')"
      ],
      "execution_count": null,
      "outputs": []
    },
    {
      "cell_type": "markdown",
      "metadata": {
        "id": "V37u_BtW2Q8A"
      },
      "source": [
        "### List 10 films with the lowest daily rental rate"
      ]
    },
    {
      "cell_type": "code",
      "metadata": {
        "id": "ocr8z6YT2Q8A"
      },
      "source": [
        "# your code goes here\n"
      ],
      "execution_count": null,
      "outputs": []
    },
    {
      "cell_type": "code",
      "metadata": {
        "cell_type": "solution",
        "id": "IU1aUnNE2Q8B"
      },
      "source": [
        "df.loc[df['film_daily_rental_rate'] == df['film_daily_rental_rate'].min()].head(10)"
      ],
      "execution_count": null,
      "outputs": []
    },
    {
      "cell_type": "markdown",
      "metadata": {
        "id": "rz34uZIZ2Q8B"
      },
      "source": [
        "### List 10 films with the highest daily rental rate"
      ]
    },
    {
      "cell_type": "code",
      "metadata": {
        "id": "t__kvoGy2Q8C"
      },
      "source": [
        "# your code goes here\n"
      ],
      "execution_count": null,
      "outputs": []
    },
    {
      "cell_type": "code",
      "metadata": {
        "cell_type": "solution",
        "id": "TWTfxXok2Q8C"
      },
      "source": [
        "df.loc[df['film_daily_rental_rate'] == df['film_daily_rental_rate'].max()].head(10)"
      ],
      "execution_count": null,
      "outputs": []
    },
    {
      "cell_type": "markdown",
      "metadata": {
        "id": "n1agjLlT2Q8D"
      },
      "source": [
        "### How many rentals were made in Lethbridge city?"
      ]
    },
    {
      "cell_type": "code",
      "metadata": {
        "id": "NIpeZuaY2Q8D"
      },
      "source": [
        "# your code goes here\n"
      ],
      "execution_count": null,
      "outputs": []
    },
    {
      "cell_type": "code",
      "metadata": {
        "cell_type": "solution",
        "id": "6uGU3YCk2Q8D"
      },
      "source": [
        "df.loc[df['rental_store_city'] == 'Lethbridge'].shape[0]"
      ],
      "execution_count": null,
      "outputs": []
    },
    {
      "cell_type": "markdown",
      "metadata": {
        "id": "wakGsDVx2Q8E"
      },
      "source": [
        "### How many rentals of each film rating were made in Lethbridge city?\n",
        "\n",
        "Show a <b>bar plot</b> with each film rating count."
      ]
    },
    {
      "cell_type": "code",
      "metadata": {
        "id": "GKrKrK-S2Q8E"
      },
      "source": [
        "# your code goes here\n"
      ],
      "execution_count": null,
      "outputs": []
    },
    {
      "cell_type": "code",
      "metadata": {
        "cell_type": "solution",
        "id": "De34_BI-2Q8F"
      },
      "source": [
        "df.loc[df['rental_store_city'] == 'Lethbridge', 'film_rating'].value_counts()"
      ],
      "execution_count": null,
      "outputs": []
    },
    {
      "cell_type": "code",
      "metadata": {
        "cell_type": "solution",
        "id": "zf5VhHvO2Q8F"
      },
      "source": [
        "df.loc[df['rental_store_city'] == 'Lethbridge', 'film_rating'].value_counts().plot(kind='bar', figsize=(14,6))"
      ],
      "execution_count": null,
      "outputs": []
    },
    {
      "cell_type": "markdown",
      "metadata": {
        "id": "8K7ier5v2Q8F"
      },
      "source": [
        "### How many rentals were made in Woodridge city with rental duration higher than 5 days?"
      ]
    },
    {
      "cell_type": "code",
      "metadata": {
        "id": "gV_DjVyu2Q8G"
      },
      "source": [
        "# your code goes here\n"
      ],
      "execution_count": null,
      "outputs": []
    },
    {
      "cell_type": "code",
      "metadata": {
        "cell_type": "solution",
        "id": "Dmjpg9va2Q8G"
      },
      "source": [
        "df.loc[(df['rental_store_city'] == 'Woodridge') & (df['film_rental_duration'] > 5)].shape[0]"
      ],
      "execution_count": null,
      "outputs": []
    },
    {
      "cell_type": "markdown",
      "metadata": {
        "id": "ZBWF7_Le2Q8H"
      },
      "source": [
        "### How many rentals were made at the store with id 2 or with replacement cost lower than 10.99 USD?"
      ]
    },
    {
      "cell_type": "code",
      "metadata": {
        "id": "CHo26r0K2Q8H"
      },
      "source": [
        "# your code goes here\n"
      ],
      "execution_count": null,
      "outputs": []
    },
    {
      "cell_type": "code",
      "metadata": {
        "cell_type": "solution",
        "id": "BUGO5O3F2Q8I"
      },
      "source": [
        "df.loc[(df['store_id'] == 2) | (df['film_replacement_cost'] < 10.99)].shape[0]"
      ],
      "execution_count": null,
      "outputs": []
    }
  ]
}